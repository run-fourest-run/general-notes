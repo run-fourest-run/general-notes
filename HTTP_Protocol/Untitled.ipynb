{
 "cells": [
  {
   "cell_type": "markdown",
   "id": "informative-bermuda",
   "metadata": {},
   "source": [
    "### HTTP Overview\n",
    "* Http is a protocol which allows the fetching of resources such as HTML documents. \n",
    "* Foundation of data exchange on the web\n",
    "* Follows a client-server protocol (requests are instantiating by the recipient).. usually a web browser\n",
    "* Complete document is reconstructed from the different sub documents fetched\n",
    "\n",
    "\n",
    "\n",
    "\n"
   ]
  },
  {
   "cell_type": "code",
   "execution_count": null,
   "id": "stable-portrait",
   "metadata": {},
   "outputs": [],
   "source": [
    "import yaml\n",
    "from IPython.display import Image, display\n",
    "\n",
    "cfg = yaml.load(open(\"./config.yaml\"), Loader=yaml.FullLoader)\n",
    "\n",
    "merge_sort_img = cfg['merge_sort_jpeg']\n",
    "\n",
    "image_list = [merge_sort_img]\n",
    "for image in image_list:\n",
    "    display(Image(filename=image))"
   ]
  }
 ],
 "metadata": {
  "kernelspec": {
   "display_name": "Python 3",
   "language": "python",
   "name": "python3"
  },
  "language_info": {
   "codemirror_mode": {
    "name": "ipython",
    "version": 3
   },
   "file_extension": ".py",
   "mimetype": "text/x-python",
   "name": "python",
   "nbconvert_exporter": "python",
   "pygments_lexer": "ipython3",
   "version": "3.8.0"
  }
 },
 "nbformat": 4,
 "nbformat_minor": 5
}
